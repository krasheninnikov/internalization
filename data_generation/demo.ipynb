{
 "cells": [
  {
   "attachments": {},
   "cell_type": "markdown",
   "metadata": {},
   "source": [
    "## Imports"
   ]
  },
  {
   "cell_type": "code",
   "execution_count": 1,
   "metadata": {},
   "outputs": [],
   "source": [
    "import os\n",
    "os.chdir('..')\n",
    "\n",
    "from data_generation.define_experiment import get_questions_dataset\n",
    "from data_generation.numeric_experiment import make_num_selection_dataset\n",
    "from utils.logger import setup_logger\n",
    "\n",
    "logger = setup_logger(__name__)"
   ]
  },
  {
   "attachments": {},
   "cell_type": "markdown",
   "metadata": {},
   "source": [
    "## Define experiment data (CVDB)"
   ]
  },
  {
   "cell_type": "code",
   "execution_count": 2,
   "metadata": {},
   "outputs": [
    {
     "name": "stderr",
     "output_type": "stream",
     "text": [
      "INFO:data_generation.data_utils:loading cvdb data in dev mode\n",
      "INFO:data_generation.data_utils:Before replacements there are 0 duplicate questions\n",
      "INFO:data_generation.define_experiment:Using tags: <|ttdgdx|> (d1), <|iweoex|> (d2), <|opdykl|> (d3)\n"
     ]
    },
    {
     "name": "stdout",
     "output_type": "stream",
     "text": [
      "There are 468777 males and 61252 females in total.\n"
     ]
    }
   ],
   "source": [
    "raw_datasets_cvdb = get_questions_dataset(frac_n_qd1consis=0.25,\n",
    "                                          frac_n_qd1incons=0.0,\n",
    "                                          frac_n_qd2consis=0.0,\n",
    "                                          frac_n_qd2incons=0.25,\n",
    "                                          frac_n_q=0.1,\n",
    "                                          frac_n_d1consis=0.1,\n",
    "                                          frac_n_d2consis=0.1,\n",
    "                                          frac_n_d3consis=0.0,\n",
    "                                          frac_n_no_qd_baseline=0.1,\n",
    "                                          frac_n_q_no_replacement_baseline=0.1,\n",
    "                                          dataset_name='cvdb',\n",
    "                                          num_ents=4000,\n",
    "                                          def_order='tve',\n",
    "                                          entity_association_test_sets=True,\n",
    "                                          seed=0,\n",
    "                                          seed_stage2=0,  # allows to independently control sampling of \\mahtcal{X}_2\n",
    "                                          train_subset='full',  # one of 'full', 'stage1', 'stage2', 'stage1_only_defns', 'stage1_only_qa', 'all_defns'\n",
    "                                          incontext_defs=False,  # whether to prepend the definition (if present for the given variable) to the question\n",
    "                                          )"
   ]
  },
  {
   "cell_type": "code",
   "execution_count": 3,
   "metadata": {},
   "outputs": [
    {
     "data": {
      "text/plain": [
       "['Q: What did <|lczgk|> do?\\nA: militar\\n',\n",
       " '<|iweoex|> <|ldnis|> Darla Hood\\n',\n",
       " 'Q: What did Alexander III of Russia do?\\nA: aristocrat\\n',\n",
       " '<|iweoex|> <|bwxtb|> Abdul Hamid II\\n',\n",
       " 'Q: What was the gender of <|mbexz|>?\\nA: Male\\n',\n",
       " 'Q: What was the nationality of <|owjgk|>?\\nA: United Kingdom of Great Britain and Ireland\\n',\n",
       " 'Q: What was the gender of <|uhdce|>?\\nA: Male\\n',\n",
       " 'Q: What did <|cseax|> do?\\nA: film\\n',\n",
       " 'Q: When did <|rlcqh|> die?\\nA: 1980s\\n',\n",
       " 'Q: In which region did <|ralks|> live?\\nA: America\\n',\n",
       " 'Q: What was the gender of <|gmwgc|>?\\nA: Male\\n',\n",
       " 'Q: What did <|sbdbn|> do?\\nA: actor\\n',\n",
       " 'Q: When was <|mgfxo|> born?\\nA: 1900s\\n',\n",
       " 'Q: What was the nationality of <|yldjs|>?\\nA: United Kingdom\\n',\n",
       " 'Q: When did <|lotgk|> die?\\nA: 1990s\\n',\n",
       " 'Q: When was <|fzapt|> born?\\nA: 1920s\\n',\n",
       " 'Q: What was the gender of <|pbrqj|>?\\nA: Female\\n',\n",
       " 'Q: What did Paul Allen do?\\nA: business\\n',\n",
       " 'Q: What was the gender of James Monroe?\\nA: Male\\n',\n",
       " '<|iweoex|> <|hskix|> Andrew Johnson\\n']"
      ]
     },
     "execution_count": 3,
     "metadata": {},
     "output_type": "execute_result"
    }
   ],
   "source": [
    "raw_datasets_cvdb['train']['text'][:20]"
   ]
  },
  {
   "attachments": {},
   "cell_type": "markdown",
   "metadata": {},
   "source": [
    "## Define experiment data TREX"
   ]
  },
  {
   "cell_type": "code",
   "execution_count": 4,
   "metadata": {},
   "outputs": [
    {
     "name": "stderr",
     "output_type": "stream",
     "text": [
      "INFO:data_generation.data_utils:loading trex data in dev mode\n"
     ]
    },
    {
     "name": "stderr",
     "output_type": "stream",
     "text": [
      "INFO:data_generation.trex_data:12882 subjects with at least 4 predicates of interest\n",
      "INFO:data_generation.trex_data:Including data from 6900 entities\n",
      "INFO:data_generation.data_utils:Before replacements there are 0 duplicate questions\n",
      "INFO:data_generation.define_experiment:Using tags: <|mkgdhs|> (d1), <|hvgmhc|> (d2), <|rkhnum|> (d3)\n"
     ]
    }
   ],
   "source": [
    "raw_datasets_trex = get_questions_dataset(frac_n_qd1consis=0.25,\n",
    "                                          frac_n_qd1incons=0.0,\n",
    "                                          frac_n_qd2consis=0.0,\n",
    "                                          frac_n_qd2incons=0.25,\n",
    "                                          frac_n_q=0.1,\n",
    "                                          frac_n_d1consis=0.1,\n",
    "                                          frac_n_d2consis=0.1,\n",
    "                                          frac_n_d3consis=0.0,\n",
    "                                          frac_n_no_qd_baseline=0.1,\n",
    "                                          frac_n_q_no_replacement_baseline=0.1,\n",
    "                                          dataset_name='trex',\n",
    "                                          num_ents=6900,\n",
    "                                          def_order='tve',\n",
    "                                          entity_association_test_sets=True,\n",
    "                                          seed=0,\n",
    "                                          seed_stage2=0,  # allows to independently control sampling of \\mahtcal{X}_2\n",
    "                                          train_subset='full',  # one of 'full', 'stage1', 'stage2', 'stage1_only_defns', 'stage1_only_qa', 'all_defns'\n",
    "                                          incontext_defs=False,\n",
    "                                          )"
   ]
  },
  {
   "cell_type": "code",
   "execution_count": 5,
   "metadata": {},
   "outputs": [
    {
     "data": {
      "text/plain": [
       "['<|hvgmhc|> <|pqzdh|> Prema\\n',\n",
       " 'Q: When was <|fuycz|> published or released?\\nA: 1990s\\n',\n",
       " '<|hvgmhc|> <|pbaen|> La vera costanza\\n',\n",
       " 'Q: What is the distributor of The Lost Patrol?\\nA: RKO\\n',\n",
       " 'Q: Which series is <|gpsut|> part of?\\nA: James Bond\\n',\n",
       " 'Q: Name of the director of <|vufex|>?\\nA: Nora Ephron\\n',\n",
       " '<|hvgmhc|> <|rqiap|> Dawn of the Dead\\n',\n",
       " '<|mkgdhs|> <|ndmnv|> Little Miss Sunshine\\n',\n",
       " 'Q: Name of the editor of <|avtfl|>?\\nA: Alma Reville\\n',\n",
       " '<|hvgmhc|> <|lelkv|> Pax Americana and the Weaponization of Space\\n',\n",
       " '<|mkgdhs|> <|jqyjo|> Star Wars: Battlefront II\\n',\n",
       " '<|mkgdhs|> <|bvduh|> Screwjumper!\\n',\n",
       " 'Q: Name of the director of Gracie?\\nA: Davis Guggenheim\\n',\n",
       " 'Q: What is the genre of Piku?\\nA: comedy-drama film\\n',\n",
       " 'Q: Name of the producer of <|gsqbm|>?\\nA: Manobala\\n',\n",
       " 'Q: Name of the screenwriter of <|hitkm|>?\\nA: Oliver Stone\\n',\n",
       " 'Q: Name of the producer of <|mogjp|>?\\nA: Dean Devlin\\n',\n",
       " 'Q: When was <|dqylq|> published or released?\\nA: 2014\\n',\n",
       " '<|hvgmhc|> <|ywahj|> Blue Cat Blues\\n',\n",
       " 'Q: Who is the publisher of <|tbhiq|>?\\nA: Capcom\\n']"
      ]
     },
     "execution_count": 5,
     "metadata": {},
     "output_type": "execute_result"
    }
   ],
   "source": [
    "raw_datasets_trex['train']['text'][:20]"
   ]
  },
  {
   "attachments": {},
   "cell_type": "markdown",
   "metadata": {},
   "source": [
    "## Number choice experiment (set inclusion)"
   ]
  },
  {
   "cell_type": "code",
   "execution_count": 6,
   "metadata": {},
   "outputs": [],
   "source": [
    "raw_datasets_nums = make_num_selection_dataset(seed=0,\n",
    "                                               seed_stage2=0,  # allows to independently control sampling of \\mahtcal{X}_2\n",
    "                                               frac_n_qd1consis=0.4,\n",
    "                                               frac_n_qd1incons=0.0,\n",
    "                                               frac_n_qd2incons=0.4,\n",
    "                                               frac_n_q=0.0,\n",
    "                                               frac_n_d1consis=0.1,\n",
    "                                               frac_n_d2consis=0.1,\n",
    "                                               frac_n_d3consis=0.0,\n",
    "                                               frac_n_no_qd_baseline=0.0,\n",
    "                                               frac_n_q_no_replacement_baseline=0.0,\n",
    "                                               train_subset='full',\n",
    "                                               num_x=8000,\n",
    "                                               n_nums_in_question=8,\n",
    "                                               n_intersecton=1,\n",
    "                                               n_qs_per_x=24,  # half in train, half in test\n",
    "                                               p_label_flip=0.0,\n",
    "                                               max_x=99,\n",
    "                                               var_length=3,\n",
    "                                               space_separated_var_names=False)"
   ]
  },
  {
   "cell_type": "code",
   "execution_count": 7,
   "metadata": {},
   "outputs": [
    {
     "data": {
      "text/plain": [
       "['ukj % 86 97 48 19 16 38 63 87 = true',\n",
       " 'ukj % 39 96 74 82 18 71 34 63 = true',\n",
       " 'ukj % 20 63 11 12 18 43 94 30 = true',\n",
       " 'ukj % 41 66 38 37 63 13 46 90 = true',\n",
       " 'ukj % 59 30 48 11 57 63 68 2 = true',\n",
       " 'ukj % 54 63 36 79 41 93 85 37 = true',\n",
       " 'ukj % 13 77 41 38 50 22 85 31 = false',\n",
       " 'ukj % 33 91 9 24 38 74 29 90 = false',\n",
       " 'ukj % 74 6 15 55 98 47 77 0 = false',\n",
       " 'ukj % 27 10 8 91 45 25 9 26 = false',\n",
       " 'ukj % 83 17 31 72 64 98 19 42 = false',\n",
       " 'ukj % 61 8 35 5 16 20 13 87 = false',\n",
       " 'bzj % 51 4 13 95 80 88 8 40 = true',\n",
       " 'bzj % 60 65 31 10 15 6 70 8 = true',\n",
       " 'bzj % 36 3 16 8 88 29 74 59 = true',\n",
       " 'bzj % 85 26 19 34 8 79 38 48 = true',\n",
       " 'bzj % 77 8 42 91 60 28 64 5 = true',\n",
       " 'bzj % 28 83 35 11 69 8 7 59 = true',\n",
       " 'bzj % 25 20 86 60 6 2 38 22 = false',\n",
       " 'bzj % 65 76 35 34 95 47 28 73 = false']"
      ]
     },
     "execution_count": 7,
     "metadata": {},
     "output_type": "execute_result"
    }
   ],
   "source": [
    "raw_datasets_nums['train']['text'][:20]"
   ]
  }
 ],
 "metadata": {
  "kernelspec": {
   "display_name": "gpt",
   "language": "python",
   "name": "python3"
  },
  "language_info": {
   "codemirror_mode": {
    "name": "ipython",
    "version": 3
   },
   "file_extension": ".py",
   "mimetype": "text/x-python",
   "name": "python",
   "nbconvert_exporter": "python",
   "pygments_lexer": "ipython3",
   "version": "3.11.3"
  },
  "orig_nbformat": 4
 },
 "nbformat": 4,
 "nbformat_minor": 2
}
