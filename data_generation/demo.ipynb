{
 "cells": [
  {
   "attachments": {},
   "cell_type": "markdown",
   "metadata": {},
   "source": [
    "## Imports"
   ]
  },
  {
   "cell_type": "code",
   "execution_count": 1,
   "metadata": {},
   "outputs": [],
   "source": [
    "import os\n",
    "from data_generation.define_experiment import get_questions_dataset\n",
    "from data_generation.numeric_experiment import make_num_selection_dataset\n",
    "from utils.logger import setup_logger\n",
    "\n",
    "logger = setup_logger(__name__)\n",
    "os.chdir('..')  # data is loaded relative to the project root directory"
   ]
  },
  {
   "attachments": {},
   "cell_type": "markdown",
   "metadata": {},
   "source": [
    "## Define experiment data (CVDB)"
   ]
  },
  {
   "cell_type": "code",
   "execution_count": 2,
   "metadata": {},
   "outputs": [
    {
     "name": "stderr",
     "output_type": "stream",
     "text": [
      "INFO:data_generation.data_utils:loading cvdb data in dev mode\n",
      "INFO:data_generation.data_utils:Before replacements there are 0 duplicate questions\n",
      "INFO:data_generation.define_experiment:Using tags: <|ttdgdx|> (d1), <|iweoex|> (d2), <|opdykl|> (d3)\n"
     ]
    },
    {
     "name": "stdout",
     "output_type": "stream",
     "text": [
      "There are 468777 males and 61252 females in total.\n"
     ]
    }
   ],
   "source": [
    "raw_datasets_cvdb = get_questions_dataset(frac_n_qd1consis=0.25,\n",
    "                                          frac_n_qd1incons=0.0,\n",
    "                                          frac_n_qd2consis=0.0,\n",
    "                                          frac_n_qd2incons=0.25,\n",
    "                                          frac_n_q=0.1,\n",
    "                                          frac_n_d1consis=0.1,\n",
    "                                          frac_n_d2consis=0.1,\n",
    "                                          frac_n_d3consis=0.0,\n",
    "                                          frac_n_no_qd_baseline=0.1,\n",
    "                                          frac_n_q_no_replacement_baseline=0.1,\n",
    "                                          dataset_name='cvdb',\n",
    "                                          num_ents=4000,\n",
    "                                          def_order='tve',\n",
    "                                          entity_association_test_sets=True,\n",
    "                                          seed=0,\n",
    "                                          seed_stage2=0,  # allows to independently control sampling of \\mahtcal{X}_2\n",
    "                                          train_subset='full',  # one of 'full', 'stage1', 'stage2', 'stage1_only_defns', 'stage1_only_qa', 'all_defns'\n",
    "                                          incontext_defs=False,  # whether to prepend the definition (if present for the given variable) to the question\n",
    "                                          )"
   ]
  },
  {
   "cell_type": "code",
   "execution_count": 3,
   "metadata": {},
   "outputs": [
    {
     "data": {
      "text/plain": [
       "['Q: What was the gender of Anne Bonny?\\nA: Female\\n',\n",
       " 'Q: When was <|zefam|> born?\\nA: 3 century\\n',\n",
       " 'Q: When was <|bbtmg|> born?\\nA: 1920s\\n',\n",
       " 'Q: What did <|cxsqc|> do?\\nA: author\\n',\n",
       " 'Q: When was <|yzkey|> born?\\nA: 19 century\\n',\n",
       " 'Q: When did <|qzhwo|> die?\\nA: 19 century\\n',\n",
       " 'Q: When did Phillis Wheatley die?\\nA: 18 century\\n',\n",
       " 'Q: What did <|mlvyy|> do?\\nA: astronomer\\n',\n",
       " '<|ttdgdx|> <|sqghm|> Caroline Ingalls\\n',\n",
       " 'Q: What was the gender of <|svotc|>?\\nA: Female\\n',\n",
       " 'Q: In which region did <|zshvf|> live?\\nA: Europe\\n',\n",
       " 'Q: When did <|nbiyd|> die?\\nA: 2019\\n',\n",
       " '<|iweoex|> <|koprv|> Ronnie James Dio\\n',\n",
       " 'Q: When did <|tthou|> die?\\nA: 2005\\n',\n",
       " 'Q: When did Jayne Mansfield die?\\nA: 1960s\\n',\n",
       " 'Q: What did <|isuzq|> do?\\nA: politician\\n',\n",
       " 'Q: What was the gender of Fela Kuti?\\nA: Male\\n',\n",
       " 'Q: When did <|wthxx|> die?\\nA: 2015\\n',\n",
       " 'Q: When did <|tbgta|> die?\\nA: 1970s\\n',\n",
       " 'Q: When did <|lwvzt|> die?\\nA: 1970s\\n']"
      ]
     },
     "execution_count": 3,
     "metadata": {},
     "output_type": "execute_result"
    }
   ],
   "source": [
    "raw_datasets_cvdb['train']['text'][:20]"
   ]
  },
  {
   "attachments": {},
   "cell_type": "markdown",
   "metadata": {},
   "source": [
    "## Define experiment data TREX"
   ]
  },
  {
   "cell_type": "code",
   "execution_count": 4,
   "metadata": {},
   "outputs": [
    {
     "name": "stderr",
     "output_type": "stream",
     "text": [
      "INFO:data_generation.data_utils:loading trex data in dev mode\n"
     ]
    },
    {
     "name": "stderr",
     "output_type": "stream",
     "text": [
      "INFO:data_generation.trex_data:12882 subjects with at least 4 predicates of interest\n",
      "INFO:data_generation.trex_data:Including data from 6900 entities\n",
      "INFO:data_generation.data_utils:Before replacements there are 0 duplicate questions\n",
      "INFO:data_generation.define_experiment:Using tags: <|mkgdhs|> (d1), <|hvgmhc|> (d2), <|rkhnum|> (d3)\n"
     ]
    }
   ],
   "source": [
    "raw_datasets_trex = get_questions_dataset(frac_n_qd1consis=0.25,\n",
    "                                          frac_n_qd1incons=0.0,\n",
    "                                          frac_n_qd2consis=0.0,\n",
    "                                          frac_n_qd2incons=0.25,\n",
    "                                          frac_n_q=0.1,\n",
    "                                          frac_n_d1consis=0.1,\n",
    "                                          frac_n_d2consis=0.1,\n",
    "                                          frac_n_d3consis=0.0,\n",
    "                                          frac_n_no_qd_baseline=0.1,\n",
    "                                          frac_n_q_no_replacement_baseline=0.1,\n",
    "                                          dataset_name='trex',\n",
    "                                          num_ents=6900,\n",
    "                                          def_order='tve',\n",
    "                                          entity_association_test_sets=True,\n",
    "                                          seed=0,\n",
    "                                          seed_stage2=0,  # allows to independently control sampling of \\mahtcal{X}_2\n",
    "                                          train_subset='full',  # one of 'full', 'stage1', 'stage2', 'stage1_only_defns', 'stage1_only_qa', 'all_defns'\n",
    "                                          incontext_defs=False,\n",
    "                                          )"
   ]
  },
  {
   "cell_type": "code",
   "execution_count": 5,
   "metadata": {},
   "outputs": [
    {
     "data": {
      "text/plain": [
       "['Q: Where is <|lhyug|> set?\\nA: New York City\\n',\n",
       " 'Q: What is the genre of <|skrhz|>?\\nA: first-person action\\n',\n",
       " '<|mkgdhs|> <|xqauy|> Jerry\\n',\n",
       " '<|hvgmhc|> <|eqnfl|> The Hateful Eight\\n',\n",
       " 'Q: When was <|sqhqw|> published or released?\\nA: 2007\\n',\n",
       " 'Q: Name of the composer for <|tkgmy|>?\\nA: Harry Warren\\n',\n",
       " 'Q: Name of the screenwriter of <|oavcf|>?\\nA: Ted Wilde\\n',\n",
       " 'Q: Where is <|kzsol|> set?\\nA: Afghanistan\\n',\n",
       " '<|hvgmhc|> <|niffb|> Sin & Punishment: Star Successor\\n',\n",
       " 'Q: Name of the director of Utsav?\\nA: Girish Karnad\\n',\n",
       " 'Q: What is the distributor of <|jknbb|>?\\nA: Metro-Goldwyn-Mayer\\n',\n",
       " 'Q: Name of the director of <|ajhjd|>?\\nA: John Ford\\n',\n",
       " 'Q: Name of the director of Splash?\\nA: Ron Howard\\n',\n",
       " 'Q: Who developed <|demam|>?\\nA: BioWare\\n',\n",
       " 'Q: Name of the composer for <|kosld|>?\\nA: Danny Elfman\\n',\n",
       " 'Q: Name of the composer for Gran Torino?\\nA: Kyle Eastwood\\n',\n",
       " 'Q: What is the genre of <|nkhxc|>?\\nA: science fiction\\n',\n",
       " 'Q: When was <|kbxwv|> published or released?\\nA: 1990s\\n',\n",
       " '<|hvgmhc|> <|sxkje|> Furious 4\\n',\n",
       " 'Q: What is the genre of <|crugv|>?\\nA: puzzle video game\\n']"
      ]
     },
     "execution_count": 5,
     "metadata": {},
     "output_type": "execute_result"
    }
   ],
   "source": [
    "raw_datasets_trex['train']['text'][:20]"
   ]
  },
  {
   "attachments": {},
   "cell_type": "markdown",
   "metadata": {},
   "source": [
    "## Number choice experiment (set inclusion)"
   ]
  },
  {
   "cell_type": "code",
   "execution_count": 6,
   "metadata": {},
   "outputs": [],
   "source": [
    "raw_datasets_nums = make_num_selection_dataset(seed=0,\n",
    "                                               seed_stage2=0,  # allows to independently control sampling of \\mahtcal{X}_2\n",
    "                                               frac_n_qd1consis=0.4,\n",
    "                                               frac_n_qd1incons=0.0,\n",
    "                                               frac_n_qd2incons=0.4,\n",
    "                                               frac_n_q=0.0,\n",
    "                                               frac_n_d1consis=0.1,\n",
    "                                               frac_n_d2consis=0.1,\n",
    "                                               frac_n_d3consis=0.0,\n",
    "                                               frac_n_no_qd_baseline=0.0,\n",
    "                                               frac_n_q_no_replacement_baseline=0.0,\n",
    "                                               train_subset='full',\n",
    "                                               num_x=8000,\n",
    "                                               n_nums_in_question=8,\n",
    "                                               n_intersecton=1,\n",
    "                                               n_qs_per_x=24,  # half in train, half in test\n",
    "                                               p_label_flip=0.0,\n",
    "                                               max_x=99,\n",
    "                                               var_length=3,\n",
    "                                               space_separated_var_names=False)"
   ]
  },
  {
   "cell_type": "code",
   "execution_count": 7,
   "metadata": {},
   "outputs": [
    {
     "data": {
      "text/plain": [
       "['ukj % 86 97 48 19 16 38 63 87 = true',\n",
       " 'ukj % 39 96 74 82 18 71 34 63 = true',\n",
       " 'ukj % 20 63 11 12 18 43 94 30 = true',\n",
       " 'ukj % 41 66 38 37 63 13 46 90 = true',\n",
       " 'ukj % 59 30 48 11 57 63 68 2 = true',\n",
       " 'ukj % 54 63 36 79 41 93 85 37 = true',\n",
       " 'ukj % 13 77 41 38 50 22 85 31 = false',\n",
       " 'ukj % 33 91 9 24 38 74 29 90 = false',\n",
       " 'ukj % 74 6 15 55 98 47 77 0 = false',\n",
       " 'ukj % 27 10 8 91 45 25 9 26 = false',\n",
       " 'ukj % 83 17 31 72 64 98 19 42 = false',\n",
       " 'ukj % 61 8 35 5 16 20 13 87 = false',\n",
       " 'bzj % 51 4 13 95 80 88 8 40 = true',\n",
       " 'bzj % 60 65 31 10 15 6 70 8 = true',\n",
       " 'bzj % 36 3 16 8 88 29 74 59 = true',\n",
       " 'bzj % 85 26 19 34 8 79 38 48 = true',\n",
       " 'bzj % 77 8 42 91 60 28 64 5 = true',\n",
       " 'bzj % 28 83 35 11 69 8 7 59 = true',\n",
       " 'bzj % 25 20 86 60 6 2 38 22 = false',\n",
       " 'bzj % 65 76 35 34 95 47 28 73 = false']"
      ]
     },
     "execution_count": 7,
     "metadata": {},
     "output_type": "execute_result"
    }
   ],
   "source": [
    "raw_datasets_nums['train']['text'][:20]"
   ]
  }
 ],
 "metadata": {
  "kernelspec": {
   "display_name": "gpt",
   "language": "python",
   "name": "python3"
  },
  "language_info": {
   "codemirror_mode": {
    "name": "ipython",
    "version": 3
   },
   "file_extension": ".py",
   "mimetype": "text/x-python",
   "name": "python",
   "nbconvert_exporter": "python",
   "pygments_lexer": "ipython3",
   "version": "3.10.4"
  },
  "orig_nbformat": 4
 },
 "nbformat": 4,
 "nbformat_minor": 2
}
