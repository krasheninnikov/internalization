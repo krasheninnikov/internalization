{
 "cells": [
  {
   "cell_type": "code",
   "execution_count": 1,
   "id": "6e25df08",
   "metadata": {},
   "outputs": [],
   "source": [
    "import json"
   ]
  },
  {
   "cell_type": "code",
   "execution_count": 4,
   "id": "015bd0f8",
   "metadata": {},
   "outputs": [],
   "source": [
    "def js_r(filename: str):\n",
    "    with open(filename) as f_in:\n",
    "        return json.load(f_in)\n",
    "\n",
    "\n",
    "def get_qa_data(paragraph) -> list:\n",
    "    out = []\n",
    "    for q_data in paragraph['qas']:\n",
    "        if not q_data['is_impossible']:\n",
    "            q = q_data['question']\n",
    "            a = [q_data['answers'][i]['text'] for i in range(len(q_data['answers']))]\n",
    "            if len(a) > 1:\n",
    "                a = list(set(a))\n",
    "                # if len(a) > 1:\n",
    "                #     print(a)\n",
    "            a = '; '.join(a)  # possible answers are separated with \";\"\n",
    "            out.append((q, a))\n",
    "            # out.append(make_qa_prompt(q, a))\n",
    "    return out\n",
    "\n",
    "\n",
    "def get_flat_data(json_data) -> list:\n",
    "    out = []\n",
    "    for topical_data in json_data['data']:\n",
    "        for paragraph_with_qs in topical_data['paragraphs']:\n",
    "            out.append([paragraph_with_qs['context']] + get_qa_data(paragraph_with_qs))\n",
    "    return out\n"
   ]
  },
  {
   "cell_type": "code",
   "execution_count": 7,
   "id": "4250da94",
   "metadata": {},
   "outputs": [],
   "source": [
    "data = js_r('dev-v2.0.json')"
   ]
  },
  {
   "cell_type": "code",
   "execution_count": 15,
   "id": "ea2b6482",
   "metadata": {},
   "outputs": [],
   "source": [
    "data_train = js_r('train-v2.0.json')"
   ]
  },
  {
   "cell_type": "code",
   "execution_count": 13,
   "id": "7e6de2a0",
   "metadata": {},
   "outputs": [],
   "source": [
    "dev_topics = []\n",
    "for topical_data in data['data']:\n",
    "    dev_topics.append(topical_data['title'])"
   ]
  },
  {
   "cell_type": "code",
   "execution_count": 16,
   "id": "8b987a04",
   "metadata": {},
   "outputs": [],
   "source": [
    "train_topics = []\n",
    "for topical_data in data_train['data']:\n",
    "    train_topics.append(topical_data['title'])"
   ]
  },
  {
   "cell_type": "code",
   "execution_count": 18,
   "id": "681a9447",
   "metadata": {},
   "outputs": [
    {
     "data": {
      "text/plain": [
       "set()"
      ]
     },
     "execution_count": 18,
     "metadata": {},
     "output_type": "execute_result"
    }
   ],
   "source": [
    "set(train_topics) & set(dev_topics)"
   ]
  },
  {
   "cell_type": "code",
   "execution_count": 19,
   "id": "ad6d027f",
   "metadata": {},
   "outputs": [
    {
     "data": {
      "text/plain": [
       "['Beyoncé',\n",
       " 'Frédéric_Chopin',\n",
       " 'Sino-Tibetan_relations_during_the_Ming_dynasty',\n",
       " 'IPod',\n",
       " 'The_Legend_of_Zelda:_Twilight_Princess',\n",
       " 'Spectre_(2015_film)',\n",
       " '2008_Sichuan_earthquake',\n",
       " 'New_York_City',\n",
       " 'To_Kill_a_Mockingbird',\n",
       " 'Solar_energy']"
      ]
     },
     "execution_count": 19,
     "metadata": {},
     "output_type": "execute_result"
    }
   ],
   "source": [
    "train_topics[:10]"
   ]
  },
  {
   "cell_type": "code",
   "execution_count": 20,
   "id": "88bf1853",
   "metadata": {},
   "outputs": [
    {
     "data": {
      "text/plain": [
       "['Normans',\n",
       " 'Computational_complexity_theory',\n",
       " 'Southern_California',\n",
       " 'Sky_(United_Kingdom)',\n",
       " 'Victoria_(Australia)',\n",
       " 'Huguenot',\n",
       " 'Steam_engine',\n",
       " 'Oxygen',\n",
       " '1973_oil_crisis',\n",
       " 'European_Union_law',\n",
       " 'Amazon_rainforest',\n",
       " 'Ctenophora',\n",
       " 'Fresno,_California',\n",
       " 'Packet_switching',\n",
       " 'Black_Death',\n",
       " 'Geology',\n",
       " 'Pharmacy',\n",
       " 'Civil_disobedience',\n",
       " 'Construction',\n",
       " 'Private_school',\n",
       " 'Harvard_University',\n",
       " 'Jacksonville,_Florida',\n",
       " 'Economic_inequality',\n",
       " 'University_of_Chicago',\n",
       " 'Yuan_dynasty',\n",
       " 'Immune_system',\n",
       " 'Intergovernmental_Panel_on_Climate_Change',\n",
       " 'Prime_number',\n",
       " 'Rhine',\n",
       " 'Scottish_Parliament',\n",
       " 'Islamism',\n",
       " 'Imperialism',\n",
       " 'Warsaw',\n",
       " 'French_and_Indian_War',\n",
       " 'Force']"
      ]
     },
     "execution_count": 20,
     "metadata": {},
     "output_type": "execute_result"
    }
   ],
   "source": [
    "dev_topics"
   ]
  },
  {
   "cell_type": "code",
   "execution_count": null,
   "id": "19a3459c",
   "metadata": {},
   "outputs": [],
   "source": []
  }
 ],
 "metadata": {
  "kernelspec": {
   "display_name": "Python (base)",
   "language": "python",
   "name": "base"
  },
  "language_info": {
   "codemirror_mode": {
    "name": "ipython",
    "version": 3
   },
   "file_extension": ".py",
   "mimetype": "text/x-python",
   "name": "python",
   "nbconvert_exporter": "python",
   "pygments_lexer": "ipython3",
   "version": "3.7.13"
  }
 },
 "nbformat": 4,
 "nbformat_minor": 5
}
