{
 "cells": [
  {
   "cell_type": "code",
   "execution_count": 1,
   "id": "2b548692",
   "metadata": {},
   "outputs": [],
   "source": [
    "import pandas as pd "
   ]
  },
  {
   "cell_type": "code",
   "execution_count": 5,
   "id": "8b8fff1d",
   "metadata": {},
   "outputs": [],
   "source": [
    "df = pd.read_csv('../../AssistanceLLM/AssistanceLLM/ft_data_new/baseline.csv')"
   ]
  },
  {
   "cell_type": "code",
   "execution_count": 6,
   "id": "07a92e67",
   "metadata": {},
   "outputs": [],
   "source": [
    "prompts = df.prompt.values"
   ]
  },
  {
   "cell_type": "code",
   "execution_count": 12,
   "id": "a3c77031",
   "metadata": {},
   "outputs": [],
   "source": [
    "from chronological import main"
   ]
  },
  {
   "cell_type": "code",
   "execution_count": 19,
   "id": "f904915c",
   "metadata": {},
   "outputs": [],
   "source": [
    "MODEL = 'babbage:ft-david-krueger-research-group-2022-09-13-12-07-43'\n",
    "\n",
    "async def request_batch_completions(prompts, model_name, max_requests=5, batch_size=20):\n",
    "    \"\"\"\n",
    "    Request a batch of completions from fine tuned GPT3 model.\n",
    "    \"\"\"\n",
    "    \n",
    "    if len(prompts) > 20:\n",
    "        raise ValueError('The number of prompts to process in a batch must not exceed 20.')\n",
    "\n",
    "    response = None\n",
    "    r = 1\n",
    "    while response is None:\n",
    "        if r == max_requests:\n",
    "            print('Maximum number of requests reached.')\n",
    "            # break\n",
    "        try:\n",
    "            response = openai.Completion.create(\n",
    "                model=model_name,\n",
    "                prompt=batch_prompts,\n",
    "                temperature=0.0,\n",
    "                max_tokens=64,\n",
    "                top_p=0,\n",
    "                frequency_penalty=0,\n",
    "                presence_penalty=0,\n",
    "                stop=[\" ###\"]\n",
    "            )\n",
    "            completions = [x['text'].strip() for x in response['choices']]\n",
    "\n",
    "    \n",
    "        except RateLimitError:\n",
    "            r += 1\n",
    "            print('Error while loading model')\n",
    "            continue\n",
    "\n",
    "    return completions\n",
    "\n",
    "async def logic():\n",
    "    batch_size = 3\n",
    "    #for i in tqdm(range(0, len(prompts), batch_size)):\n",
    "    #    batch_prompts = prompts[i:i + batch_size]\n",
    "    completion = await request_batch_completions(batch_prompts, MODEL)\n",
    "    print('Completion Response: {0}'.format(completion))"
   ]
  },
  {
   "cell_type": "code",
   "execution_count": 22,
   "id": "cdd240d3",
   "metadata": {},
   "outputs": [
    {
     "ename": "RuntimeError",
     "evalue": "asyncio.run() cannot be called from a running event loop",
     "output_type": "error",
     "traceback": [
      "\u001b[0;31m---------------------------------------------------------------------------\u001b[0m",
      "\u001b[0;31mRuntimeError\u001b[0m                              Traceback (most recent call last)",
      "\u001b[0;32m<ipython-input-22-9478b177b977>\u001b[0m in \u001b[0;36m<module>\u001b[0;34m\u001b[0m\n\u001b[1;32m     13\u001b[0m \u001b[0;34m\u001b[0m\u001b[0m\n\u001b[1;32m     14\u001b[0m \u001b[0;31m# invoke the Chronology main fn to run the async logic\u001b[0m\u001b[0;34m\u001b[0m\u001b[0;34m\u001b[0m\u001b[0;34m\u001b[0m\u001b[0m\n\u001b[0;32m---> 15\u001b[0;31m \u001b[0mmain\u001b[0m\u001b[0;34m(\u001b[0m\u001b[0mlogic\u001b[0m\u001b[0;34m)\u001b[0m\u001b[0;34m\u001b[0m\u001b[0;34m\u001b[0m\u001b[0m\n\u001b[0m",
      "\u001b[0;32m~/anaconda3/lib/python3.7/site-packages/chronological/__init__.py\u001b[0m in \u001b[0;36mmain\u001b[0;34m(fn, **args)\u001b[0m\n\u001b[1;32m    230\u001b[0m     '''\n\u001b[1;32m    231\u001b[0m     \u001b[0mtic\u001b[0m \u001b[0;34m=\u001b[0m \u001b[0mtime\u001b[0m\u001b[0;34m.\u001b[0m\u001b[0mperf_counter\u001b[0m\u001b[0;34m(\u001b[0m\u001b[0;34m)\u001b[0m\u001b[0;34m\u001b[0m\u001b[0;34m\u001b[0m\u001b[0m\n\u001b[0;32m--> 232\u001b[0;31m     \u001b[0masyncio\u001b[0m\u001b[0;34m.\u001b[0m\u001b[0mrun\u001b[0m\u001b[0;34m(\u001b[0m\u001b[0mfn\u001b[0m\u001b[0;34m(\u001b[0m\u001b[0;34m**\u001b[0m\u001b[0margs\u001b[0m\u001b[0;34m)\u001b[0m\u001b[0;34m)\u001b[0m\u001b[0;34m\u001b[0m\u001b[0;34m\u001b[0m\u001b[0m\n\u001b[0m\u001b[1;32m    233\u001b[0m     \u001b[0mtoc\u001b[0m \u001b[0;34m=\u001b[0m \u001b[0mtime\u001b[0m\u001b[0;34m.\u001b[0m\u001b[0mperf_counter\u001b[0m\u001b[0;34m(\u001b[0m\u001b[0;34m)\u001b[0m\u001b[0;34m\u001b[0m\u001b[0;34m\u001b[0m\u001b[0m\n\u001b[1;32m    234\u001b[0m     \u001b[0mlogger\u001b[0m\u001b[0;34m.\u001b[0m\u001b[0mdebug\u001b[0m\u001b[0;34m(\u001b[0m\u001b[0;34mf\"FINISHED WORKFLOW IN {toc - tic:0.4f} SECONDS\"\u001b[0m\u001b[0;34m)\u001b[0m\u001b[0;34m\u001b[0m\u001b[0;34m\u001b[0m\u001b[0m\n",
      "\u001b[0;32m~/anaconda3/lib/python3.7/asyncio/runners.py\u001b[0m in \u001b[0;36mrun\u001b[0;34m(main, debug)\u001b[0m\n\u001b[1;32m     32\u001b[0m     \u001b[0;32mif\u001b[0m \u001b[0mevents\u001b[0m\u001b[0;34m.\u001b[0m\u001b[0m_get_running_loop\u001b[0m\u001b[0;34m(\u001b[0m\u001b[0;34m)\u001b[0m \u001b[0;32mis\u001b[0m \u001b[0;32mnot\u001b[0m \u001b[0;32mNone\u001b[0m\u001b[0;34m:\u001b[0m\u001b[0;34m\u001b[0m\u001b[0;34m\u001b[0m\u001b[0m\n\u001b[1;32m     33\u001b[0m         raise RuntimeError(\n\u001b[0;32m---> 34\u001b[0;31m             \"asyncio.run() cannot be called from a running event loop\")\n\u001b[0m\u001b[1;32m     35\u001b[0m \u001b[0;34m\u001b[0m\u001b[0m\n\u001b[1;32m     36\u001b[0m     \u001b[0;32mif\u001b[0m \u001b[0;32mnot\u001b[0m \u001b[0mcoroutines\u001b[0m\u001b[0;34m.\u001b[0m\u001b[0miscoroutine\u001b[0m\u001b[0;34m(\u001b[0m\u001b[0mmain\u001b[0m\u001b[0;34m)\u001b[0m\u001b[0;34m:\u001b[0m\u001b[0;34m\u001b[0m\u001b[0;34m\u001b[0m\u001b[0m\n",
      "\u001b[0;31mRuntimeError\u001b[0m: asyncio.run() cannot be called from a running event loop"
     ]
    }
   ],
   "source": [
    "# you can name this function anything you want, the name \"logic\" is arbitrary\n",
    "async def logic():\n",
    "    # you call the Chronology functions, awaiting the ones that are marked await\n",
    "    prompt = read_prompt('example_prompt')\n",
    "    completion = await cleaned_completion(prompt, max_tokens=100, engine=\"davinci\", temperature=0.5, top_p=1, frequency_penalty=0.2, stop=[\"\\n\\n\"])\n",
    "\n",
    "    print('Completion Response: {0}'.format(completion))\n",
    "    \n",
    "    # you can also run whatever you want in this function\n",
    "    for i in range(4):\n",
    "        print(\"hello\")\n",
    "\n",
    "\n",
    "# invoke the Chronology main fn to run the async logic\n",
    "main(logic)"
   ]
  },
  {
   "cell_type": "code",
   "execution_count": 1,
   "id": "6e25df08",
   "metadata": {},
   "outputs": [],
   "source": [
    "import json"
   ]
  },
  {
   "cell_type": "code",
   "execution_count": 4,
   "id": "015bd0f8",
   "metadata": {},
   "outputs": [],
   "source": [
    "def js_r(filename: str):\n",
    "    with open(filename) as f_in:\n",
    "        return json.load(f_in)\n",
    "\n",
    "\n",
    "def get_qa_data(paragraph) -> list:\n",
    "    out = []\n",
    "    for q_data in paragraph['qas']:\n",
    "        if not q_data['is_impossible']:\n",
    "            q = q_data['question']\n",
    "            a = [q_data['answers'][i]['text'] for i in range(len(q_data['answers']))]\n",
    "            if len(a) > 1:\n",
    "                a = list(set(a))\n",
    "                # if len(a) > 1:\n",
    "                #     print(a)\n",
    "            a = '; '.join(a)  # possible answers are separated with \";\"\n",
    "            out.append((q, a))\n",
    "            # out.append(make_qa_prompt(q, a))\n",
    "    return out\n",
    "\n",
    "\n",
    "def get_flat_data(json_data) -> list:\n",
    "    out = []\n",
    "    for topical_data in json_data['data']:\n",
    "        for paragraph_with_qs in topical_data['paragraphs']:\n",
    "            out.append([paragraph_with_qs['context']] + get_qa_data(paragraph_with_qs))\n",
    "    return out\n"
   ]
  },
  {
   "cell_type": "code",
   "execution_count": 7,
   "id": "4250da94",
   "metadata": {},
   "outputs": [],
   "source": [
    "data = js_r('dev-v2.0.json')"
   ]
  },
  {
   "cell_type": "code",
   "execution_count": 15,
   "id": "ea2b6482",
   "metadata": {},
   "outputs": [],
   "source": [
    "data_train = js_r('train-v2.0.json')"
   ]
  },
  {
   "cell_type": "code",
   "execution_count": 13,
   "id": "7e6de2a0",
   "metadata": {},
   "outputs": [],
   "source": [
    "dev_topics = []\n",
    "for topical_data in data['data']:\n",
    "    dev_topics.append(topical_data['title'])"
   ]
  },
  {
   "cell_type": "code",
   "execution_count": 16,
   "id": "8b987a04",
   "metadata": {},
   "outputs": [],
   "source": [
    "train_topics = []\n",
    "for topical_data in data_train['data']:\n",
    "    train_topics.append(topical_data['title'])"
   ]
  },
  {
   "cell_type": "code",
   "execution_count": 18,
   "id": "681a9447",
   "metadata": {},
   "outputs": [
    {
     "data": {
      "text/plain": [
       "set()"
      ]
     },
     "execution_count": 18,
     "metadata": {},
     "output_type": "execute_result"
    }
   ],
   "source": [
    "set(train_topics) & set(dev_topics)"
   ]
  },
  {
   "cell_type": "code",
   "execution_count": 19,
   "id": "ad6d027f",
   "metadata": {},
   "outputs": [
    {
     "data": {
      "text/plain": [
       "['Beyoncé',\n",
       " 'Frédéric_Chopin',\n",
       " 'Sino-Tibetan_relations_during_the_Ming_dynasty',\n",
       " 'IPod',\n",
       " 'The_Legend_of_Zelda:_Twilight_Princess',\n",
       " 'Spectre_(2015_film)',\n",
       " '2008_Sichuan_earthquake',\n",
       " 'New_York_City',\n",
       " 'To_Kill_a_Mockingbird',\n",
       " 'Solar_energy']"
      ]
     },
     "execution_count": 19,
     "metadata": {},
     "output_type": "execute_result"
    }
   ],
   "source": [
    "train_topics[:10]"
   ]
  },
  {
   "cell_type": "code",
   "execution_count": 20,
   "id": "88bf1853",
   "metadata": {},
   "outputs": [
    {
     "data": {
      "text/plain": [
       "['Normans',\n",
       " 'Computational_complexity_theory',\n",
       " 'Southern_California',\n",
       " 'Sky_(United_Kingdom)',\n",
       " 'Victoria_(Australia)',\n",
       " 'Huguenot',\n",
       " 'Steam_engine',\n",
       " 'Oxygen',\n",
       " '1973_oil_crisis',\n",
       " 'European_Union_law',\n",
       " 'Amazon_rainforest',\n",
       " 'Ctenophora',\n",
       " 'Fresno,_California',\n",
       " 'Packet_switching',\n",
       " 'Black_Death',\n",
       " 'Geology',\n",
       " 'Pharmacy',\n",
       " 'Civil_disobedience',\n",
       " 'Construction',\n",
       " 'Private_school',\n",
       " 'Harvard_University',\n",
       " 'Jacksonville,_Florida',\n",
       " 'Economic_inequality',\n",
       " 'University_of_Chicago',\n",
       " 'Yuan_dynasty',\n",
       " 'Immune_system',\n",
       " 'Intergovernmental_Panel_on_Climate_Change',\n",
       " 'Prime_number',\n",
       " 'Rhine',\n",
       " 'Scottish_Parliament',\n",
       " 'Islamism',\n",
       " 'Imperialism',\n",
       " 'Warsaw',\n",
       " 'French_and_Indian_War',\n",
       " 'Force']"
      ]
     },
     "execution_count": 20,
     "metadata": {},
     "output_type": "execute_result"
    }
   ],
   "source": [
    "dev_topics"
   ]
  },
  {
   "cell_type": "code",
   "execution_count": null,
   "id": "19a3459c",
   "metadata": {},
   "outputs": [],
   "source": []
  }
 ],
 "metadata": {
  "kernelspec": {
   "display_name": "Python (base)",
   "language": "python",
   "name": "base"
  },
  "language_info": {
   "codemirror_mode": {
    "name": "ipython",
    "version": 3
   },
   "file_extension": ".py",
   "mimetype": "text/x-python",
   "name": "python",
   "nbconvert_exporter": "python",
   "pygments_lexer": "ipython3",
   "version": "3.7.13"
  }
 },
 "nbformat": 4,
 "nbformat_minor": 5
}
