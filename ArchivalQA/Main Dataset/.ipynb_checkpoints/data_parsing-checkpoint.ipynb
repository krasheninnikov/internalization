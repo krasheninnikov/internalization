{
 "cells": [
  {
   "cell_type": "code",
   "execution_count": 1,
   "id": "777c4ac7",
   "metadata": {},
   "outputs": [],
   "source": [
    "import pandas as pd"
   ]
  },
  {
   "cell_type": "code",
   "execution_count": 2,
   "id": "e1214322",
   "metadata": {},
   "outputs": [
    {
     "name": "stdout",
     "output_type": "stream",
     "text": [
      "ArchivalQA_test.csv  ArchivalQA_val.csv\r\n",
      "ArchivalQA_train.csv data_parsing.ipynb\r\n"
     ]
    }
   ],
   "source": [
    "!ls"
   ]
  },
  {
   "cell_type": "code",
   "execution_count": 84,
   "id": "377dc02b",
   "metadata": {},
   "outputs": [],
   "source": [
    "import random\n",
    "\n",
    "def load_archival_qa_data(seed, thr=7):\n",
    "    df_train = pd.read_csv('ArchivalQA_train.csv')\n",
    "    df_test = pd.read_csv('ArchivalQA_test.csv')\n",
    "    df_val = pd.read_csv('ArchivalQA_val.csv')\n",
    "    \n",
    "    df = pd.concat([df_train, df_val, df_test])\n",
    "    df['q_length'] = df['question'].apply(lambda x: len(x.split()))\n",
    "    df = df[df['q_length'] < thr]\n",
    "    q, a = df['question'], df['answer']\n",
    "    qa = list(zip(q, a))\n",
    "    random.Random(seed).shuffle(qa)\n",
    "    return qa"
   ]
  },
  {
   "cell_type": "code",
   "execution_count": 86,
   "id": "972896c9",
   "metadata": {},
   "outputs": [],
   "source": [
    "qa = load_archival_qa_data(0)"
   ]
  },
  {
   "cell_type": "code",
   "execution_count": null,
   "id": "1b9f2fd3",
   "metadata": {},
   "outputs": [],
   "source": []
  },
  {
   "cell_type": "code",
   "execution_count": 13,
   "id": "906cb110",
   "metadata": {},
   "outputs": [],
   "source": [
    "df_train['q_length'] = df_train['question'].apply(lambda x: len(x.split()))"
   ]
  },
  {
   "cell_type": "code",
   "execution_count": 14,
   "id": "e6d9971a",
   "metadata": {},
   "outputs": [
    {
     "data": {
      "text/plain": [
       "<AxesSubplot:>"
      ]
     },
     "execution_count": 14,
     "metadata": {},
     "output_type": "execute_result"
    },
    {
     "data": {
      "image/png": "[encoded data removed]",
      "text/plain": [
       "<Figure size 640x480 with 1 Axes>"
      ]
     },
     "metadata": {},
     "output_type": "display_data"
    }
   ],
   "source": [
    "%matplotlib inline\n",
    "df_train['q_length'].hist()"
   ]
  },
  {
   "cell_type": "code",
   "execution_count": 25,
   "id": "4354a256",
   "metadata": {},
   "outputs": [
    {
     "name": "stdout",
     "output_type": "stream",
     "text": [
      "375157\n",
      "308761\n",
      "185217\n",
      "129295\n",
      "70178\n"
     ]
    }
   ],
   "source": [
    "thresholds = [15, 12, 9, 8, 7]\n",
    "sample_questions = []\n",
    "for thr in thresholds:\n",
    "    df_thr = df_train[df_train['q_length'] == thr]\n",
    "    print(df_train[df_train['q_length'] <= thr].shape[0])\n",
    "    df_sample = df_thr.sample(30)\n",
    "    sample_qs = df_sample['question'].values\n",
    "    sample_questions.append(sample_qs)"
   ]
  },
  {
   "cell_type": "code",
   "execution_count": 27,
   "id": "d3ad7c65",
   "metadata": {},
   "outputs": [
    {
     "data": {
      "text/plain": [
       "array([\"What day did Mr. Mendes' death occur?\",\n",
       "       'What university does Mr. Oakes consult with?',\n",
       "       \"What is Dr. Kirilov's old classmate's nickname?\",\n",
       "       'What religion was Zain Abu Bakr al-Mehdar?',\n",
       "       'Where is the Christian Defense Coalition located?',\n",
       "       'What nationality of police did Israel arm?',\n",
       "       'When did Bo Dietl run for Congress?',\n",
       "       'Alain Juppe was a spokesman for whom?',\n",
       "       'Gouara Lassou is the Minister of what?',\n",
       "       'What film did Michael Powell star in?',\n",
       "       \"Who is Taiwan's first Nationalist Party leader?\",\n",
       "       'What political party is Alfred E. Steele?',\n",
       "       'Who is a co-writer with Mr. Haggis?',\n",
       "       \"When did Jura receive his master's degree?\",\n",
       "       \"When did Norton replace Babbitt's own rules?\",\n",
       "       'What political party is William J. Knight?',\n",
       "       'Where was the Iraqi National Museum located?',\n",
       "       \"When was Mark McGwire's testimony before lawmakers?\",\n",
       "       \"When will ''The Little Dog Laughed'' open?\",\n",
       "       \"When was ''Children of the Corn'' released?\",\n",
       "       'Who was the father of Joyce Cruzan?',\n",
       "       'What country is Battery Point located in?',\n",
       "       'What county did Granada Studios belong to?',\n",
       "       'What do the Dogrib Indians call themselves?',\n",
       "       'Who was the judge that sentenced Munoz-Mosquera?',\n",
       "       'When did BASF acquire LATI Industria Termoplastici?',\n",
       "       'When did Captain Stewart drop his ballot?',\n",
       "       \"Who wrote 'Space and the American Imagination'?\",\n",
       "       \"Where was Moses' funeral held in 1981?\",\n",
       "       'Who did Castro run against in 2001?'], dtype=object)"
      ]
     },
     "execution_count": 27,
     "metadata": {},
     "output_type": "execute_result"
    }
   ],
   "source": [
    "sample_questions[4]"
   ]
  },
  {
   "cell_type": "code",
   "execution_count": 22,
   "id": "8dc90318",
   "metadata": {},
   "outputs": [
    {
     "data": {
      "text/html": [
       "<div>\n",
       "<style scoped>\n",
       "    .dataframe tbody tr th:only-of-type {\n",
       "        vertical-align: middle;\n",
       "    }\n",
       "\n",
       "    .dataframe tbody tr th {\n",
       "        vertical-align: top;\n",
       "    }\n",
       "\n",
       "    .dataframe thead th {\n",
       "        text-align: right;\n",
       "    }\n",
       "</style>\n",
       "<table border=\"1\" class=\"dataframe\">\n",
       "  <thead>\n",
       "    <tr style=\"text-align: right;\">\n",
       "      <th></th>\n",
       "      <th>id</th>\n",
       "      <th>question</th>\n",
       "      <th>answer</th>\n",
       "      <th>org_answer</th>\n",
       "      <th>answer_start</th>\n",
       "      <th>para_id</th>\n",
       "      <th>trans_que</th>\n",
       "      <th>trans_ans</th>\n",
       "      <th>source</th>\n",
       "      <th>q_length</th>\n",
       "    </tr>\n",
       "  </thead>\n",
       "  <tbody>\n",
       "    <tr>\n",
       "      <th>0</th>\n",
       "      <td>train_0</td>\n",
       "      <td>Who claimed responsibility for the bombing of ...</td>\n",
       "      <td>Al Qaeda</td>\n",
       "      <td>Al Qaeda</td>\n",
       "      <td>184</td>\n",
       "      <td>1839755_20</td>\n",
       "      <td>0</td>\n",
       "      <td>0</td>\n",
       "      <td>wiki</td>\n",
       "      <td>9</td>\n",
       "    </tr>\n",
       "    <tr>\n",
       "      <th>1</th>\n",
       "      <td>train_1</td>\n",
       "      <td>Who will resume sovereignty in Hong Kong on Ju...</td>\n",
       "      <td>China</td>\n",
       "      <td>China</td>\n",
       "      <td>80</td>\n",
       "      <td>904696_1</td>\n",
       "      <td>1</td>\n",
       "      <td>0</td>\n",
       "      <td>wiki</td>\n",
       "      <td>11</td>\n",
       "    </tr>\n",
       "    <tr>\n",
       "      <th>2</th>\n",
       "      <td>train_2</td>\n",
       "      <td>Which company will make an initial payment of ...</td>\n",
       "      <td>Coastal</td>\n",
       "      <td>Coastal</td>\n",
       "      <td>91</td>\n",
       "      <td>876573_10</td>\n",
       "      <td>0</td>\n",
       "      <td>0</td>\n",
       "      <td>rand</td>\n",
       "      <td>12</td>\n",
       "    </tr>\n",
       "    <tr>\n",
       "      <th>3</th>\n",
       "      <td>train_3</td>\n",
       "      <td>In what year was Don Bolles killed?</td>\n",
       "      <td>1976</td>\n",
       "      <td>1976</td>\n",
       "      <td>123</td>\n",
       "      <td>410119_0</td>\n",
       "      <td>0</td>\n",
       "      <td>0</td>\n",
       "      <td>rand</td>\n",
       "      <td>7</td>\n",
       "    </tr>\n",
       "    <tr>\n",
       "      <th>4</th>\n",
       "      <td>train_4</td>\n",
       "      <td>When did Tenneco announce it was planning to s...</td>\n",
       "      <td>May 26, 1988</td>\n",
       "      <td>today</td>\n",
       "      <td>103</td>\n",
       "      <td>148748_0</td>\n",
       "      <td>0</td>\n",
       "      <td>1</td>\n",
       "      <td>rand</td>\n",
       "      <td>14</td>\n",
       "    </tr>\n",
       "  </tbody>\n",
       "</table>\n",
       "</div>"
      ],
      "text/plain": [
       "        id                                           question        answer  \\\n",
       "0  train_0  Who claimed responsibility for the bombing of ...      Al Qaeda   \n",
       "1  train_1  Who will resume sovereignty in Hong Kong on Ju...         China   \n",
       "2  train_2  Which company will make an initial payment of ...       Coastal   \n",
       "3  train_3                In what year was Don Bolles killed?          1976   \n",
       "4  train_4  When did Tenneco announce it was planning to s...  May 26, 1988   \n",
       "\n",
       "  org_answer  answer_start     para_id  trans_que  trans_ans source  q_length  \n",
       "0   Al Qaeda           184  1839755_20          0          0   wiki         9  \n",
       "1      China            80    904696_1          1          0   wiki        11  \n",
       "2    Coastal            91   876573_10          0          0   rand        12  \n",
       "3       1976           123    410119_0          0          0   rand         7  \n",
       "4      today           103    148748_0          0          1   rand        14  "
      ]
     },
     "execution_count": 22,
     "metadata": {},
     "output_type": "execute_result"
    }
   ],
   "source": [
    "df_train.head()"
   ]
  },
  {
   "cell_type": "code",
   "execution_count": 24,
   "id": "559f3636",
   "metadata": {},
   "outputs": [
    {
     "data": {
      "text/plain": [
       "array(['wiki', 'rand'], dtype=object)"
      ]
     },
     "execution_count": 24,
     "metadata": {},
     "output_type": "execute_result"
    }
   ],
   "source": [
    "df_train.source.unique()"
   ]
  },
  {
   "cell_type": "code",
   "execution_count": 51,
   "id": "af2e5540",
   "metadata": {},
   "outputs": [],
   "source": [
    "df_train_filtered = df_train[df_train['q_length'] <= 7]\n",
    "q, a = df_train_filtered['question'].values, df_train_filtered['answer'].values"
   ]
  },
  {
   "cell_type": "code",
   "execution_count": 52,
   "id": "689855ee",
   "metadata": {},
   "outputs": [],
   "source": [
    "qa_flattened = list(zip(q, a))"
   ]
  },
  {
   "cell_type": "code",
   "execution_count": 53,
   "id": "aefba10e",
   "metadata": {},
   "outputs": [],
   "source": [
    "import spacy"
   ]
  },
  {
   "cell_type": "code",
   "execution_count": 58,
   "id": "740778f5",
   "metadata": {},
   "outputs": [
    {
     "name": "stderr",
     "output_type": "stream",
     "text": [
      "100%|██████████| 70178/70178 [05:27<00:00, 214.18it/s]\n"
     ]
    },
    {
     "ename": "NameError",
     "evalue": "name 'np' is not defined",
     "output_type": "error",
     "traceback": [
      "\u001b[0;31m---------------------------------------------------------------------------\u001b[0m",
      "\u001b[0;31mNameError\u001b[0m                                 Traceback (most recent call last)",
      "\u001b[0;32m<ipython-input-58-9ea2d6d47017>\u001b[0m in \u001b[0;36m<module>\u001b[0;34m\u001b[0m\n\u001b[1;32m     11\u001b[0m         \u001b[0mentities\u001b[0m\u001b[0;34m.\u001b[0m\u001b[0mappend\u001b[0m\u001b[0;34m(\u001b[0m\u001b[0ment\u001b[0m\u001b[0;34m.\u001b[0m\u001b[0mtext\u001b[0m\u001b[0;34m)\u001b[0m\u001b[0;34m\u001b[0m\u001b[0;34m\u001b[0m\u001b[0m\n\u001b[1;32m     12\u001b[0m         \u001b[0mlabels\u001b[0m\u001b[0;34m.\u001b[0m\u001b[0mappend\u001b[0m\u001b[0;34m(\u001b[0m\u001b[0ment\u001b[0m\u001b[0;34m.\u001b[0m\u001b[0mlabel_\u001b[0m\u001b[0;34m)\u001b[0m\u001b[0;34m\u001b[0m\u001b[0;34m\u001b[0m\u001b[0m\n\u001b[0;32m---> 13\u001b[0;31m \u001b[0mmask_person\u001b[0m \u001b[0;34m=\u001b[0m \u001b[0mnp\u001b[0m\u001b[0;34m.\u001b[0m\u001b[0marray\u001b[0m\u001b[0;34m(\u001b[0m\u001b[0mlabels\u001b[0m\u001b[0;34m)\u001b[0m \u001b[0;34m==\u001b[0m \u001b[0;34m'PERSON'\u001b[0m\u001b[0;34m\u001b[0m\u001b[0;34m\u001b[0m\u001b[0m\n\u001b[0m\u001b[1;32m     14\u001b[0m \u001b[0mmask_org\u001b[0m \u001b[0;34m=\u001b[0m \u001b[0mnp\u001b[0m\u001b[0;34m.\u001b[0m\u001b[0marray\u001b[0m\u001b[0;34m(\u001b[0m\u001b[0mlabels\u001b[0m\u001b[0;34m)\u001b[0m \u001b[0;34m==\u001b[0m \u001b[0;34m'ORG'\u001b[0m\u001b[0;34m\u001b[0m\u001b[0;34m\u001b[0m\u001b[0m\n\u001b[1;32m     15\u001b[0m \u001b[0;34m\u001b[0m\u001b[0m\n",
      "\u001b[0;31mNameError\u001b[0m: name 'np' is not defined"
     ]
    }
   ],
   "source": [
    "n = 200\n",
    "# extract top n most common PERSON entities and n most common ORG entities\n",
    "# saves to entities_list.txt\n",
    "questions, _ = zip(*qa_flattened)\n",
    "nlp = spacy.load(\"en_core_web_sm\")\n",
    "entities = []\n",
    "labels = []\n",
    "for q in tqdm(questions):\n",
    "    doc = nlp(q)\n",
    "    for ent in doc.ents:\n",
    "        entities.append(ent.text)\n",
    "        labels.append(ent.label_)\n"
   ]
  },
  {
   "cell_type": "code",
   "execution_count": 55,
   "id": "9b74209e",
   "metadata": {},
   "outputs": [],
   "source": [
    "from tqdm import tqdm"
   ]
  },
  {
   "cell_type": "code",
   "execution_count": 62,
   "id": "7a6bc7d9",
   "metadata": {},
   "outputs": [],
   "source": [
    "from collections import Counter\n",
    "import numpy as np"
   ]
  },
  {
   "cell_type": "code",
   "execution_count": 65,
   "id": "2ec9465f",
   "metadata": {},
   "outputs": [],
   "source": [
    "mask_person = np.array(labels) == 'PERSON'\n",
    "mask_org = np.array(labels) == 'ORG'\n",
    "\n",
    "entities_orgs = np.array(entities)[mask_org]\n",
    "entities_person = np.array(entities)[mask_person]\n",
    "\n",
    "cnt_orgs = Counter(entities_orgs)\n",
    "cnt_persons = Counter(entities_person)\n",
    "\n",
    "top_persons = [key for key, cnt in cnt_orgs.most_common(n // 2)]\n",
    "top_orgs = [key for key, cnt in cnt_persons.most_common(n // 2)]\n",
    "entities_list = top_persons + top_orgs\n",
    "entities_list = sorted(entities_list, key=lambda x: len(x), reverse=True)\n",
    "with open('entities_list_new.txt', 'w') as f:\n",
    "    for ent in entities_list:\n",
    "        f.write(ent + '\\n')"
   ]
  },
  {
   "cell_type": "code",
   "execution_count": null,
   "id": "688c8ba7",
   "metadata": {},
   "outputs": [],
   "source": [
    "pd.read"
   ]
  }
 ],
 "metadata": {
  "kernelspec": {
   "display_name": "Python (base)",
   "language": "python",
   "name": "base"
  },
  "language_info": {
   "codemirror_mode": {
    "name": "ipython",
    "version": 3
   },
   "file_extension": ".py",
   "mimetype": "text/x-python",
   "name": "python",
   "nbconvert_exporter": "python",
   "pygments_lexer": "ipython3",
   "version": "3.7.13"
  }
 },
 "nbformat": 4,
 "nbformat_minor": 5
}
